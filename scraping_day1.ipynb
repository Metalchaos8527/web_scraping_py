{
 "cells": [
  {
   "cell_type": "markdown",
   "metadata": {},
   "source": [
    "## 파이썬으로 웹 크롤러 만들기 1일차"
   ]
  },
  {
   "cell_type": "markdown",
   "metadata": {},
   "source": [
    "## ch1. 첫 번째 웹 스크레이퍼\n",
    "\n",
    "### BeautlifulSoup 실행해보기"
   ]
  },
  {
   "cell_type": "code",
   "execution_count": 2,
   "metadata": {},
   "outputs": [
    {
     "name": "stdout",
     "output_type": "stream",
     "text": [
      "<h1>An Interesting Title</h1>\n"
     ]
    }
   ],
   "source": [
    "# beautifulsoup 실행해보기\n",
    "\n",
    "from urllib.request import urlopen\n",
    "from bs4 import BeautifulSoup\n",
    "\n",
    "html = urlopen('http://www.pythonscraping.com/pages/page1.html') \n",
    "    #읽고자 하는 페이지 html 얻기\n",
    "bs = BeautifulSoup(html.read(), 'html.parser') \n",
    "    #첫 변수는 html 텍스트, 두변째 변수는 bs의 구문 분석기\n",
    "    #대부분 html.parser를 사용할 것\n",
    "print(bs.h1) #bs에 있는 html파일의 h1태그를 읽기"
   ]
  },
  {
   "cell_type": "code",
   "execution_count": 3,
   "metadata": {},
   "outputs": [
    {
     "data": {
      "text/plain": [
       "<html>\n",
       "<head>\n",
       "<title>A Useful Page</title>\n",
       "</head>\n",
       "<body>\n",
       "<h1>An Interesting Title</h1>\n",
       "<div>\n",
       "Lorem ipsum dolor sit amet, consectetur adipisicing elit, sed do eiusmod tempor incididunt ut labore et dolore magna aliqua. Ut enim ad minim veniam, quis nostrud exercitation ullamco laboris nisi ut aliquip ex ea commodo consequat. Duis aute irure dolor in reprehenderit in voluptate velit esse cillum dolore eu fugiat nulla pariatur. Excepteur sint occaecat cupidatat non proident, sunt in culpa qui officia deserunt mollit anim id est laborum.\n",
       "</div>\n",
       "</body>\n",
       "</html>"
      ]
     },
     "execution_count": 3,
     "metadata": {},
     "output_type": "execute_result"
    }
   ],
   "source": [
    "bs"
   ]
  },
  {
   "cell_type": "markdown",
   "metadata": {},
   "source": [
    "### 스크래핑의 예외 처리\n",
    "\n",
    "스크래핑 시 html구문이 제대로 작성되지 못한 경우 (태그가 안 닫혀 있는 경우 등)에\n",
    "스크래퍼가 예외처리를 하지 못하여 멈추는 경우가 빈번     \n",
    "-> 어떻게 처리할 것인가?\n",
    "\n",
    "\n",
    "**발생할 수 있는 에러의 종류 예시**\n",
    "1. HTTP 에러\n",
    "- 페이지를 찾을 수 없는 경우, url 해석에서 에러가 생긴 경우\n",
    "- 서버를 찾을 수 없는 경우    \n",
    "ex) 404 Page Not Found, 500 Internal Server Error\n",
    "\n",
    "2. URL 에러\n",
    "- url에 오타가 있을 때 "
   ]
  },
  {
   "cell_type": "code",
   "execution_count": 5,
   "metadata": {},
   "outputs": [
    {
     "name": "stdout",
     "output_type": "stream",
     "text": [
      "It Worked!\n"
     ]
    }
   ],
   "source": [
    "#사이트 접속을 통해 html 텍스트 파일을 가지고 올 수 없는 경우\n",
    "#두 가지 상황을 고려하여 예외를 처리해보기\n",
    "from urllib.request import urlopen\n",
    "from urllib.error import HTTPError\n",
    "from urllib.error import URLError\n",
    "\n",
    "\n",
    "try:\n",
    "    html = urlopen('http://www.pythonscraping.com/pages/page1.html') \n",
    "\n",
    "except HTTPError as e: #HTTP error 발생 경우\n",
    "    print(e)\n",
    "\n",
    "except URLError as e: #URL error 발생 경우\n",
    "    print('The server could not be found!')\n",
    "    \n",
    "else:\n",
    "    print('It Worked!')"
   ]
  },
  {
   "cell_type": "code",
   "execution_count": 6,
   "metadata": {},
   "outputs": [
    {
     "name": "stdout",
     "output_type": "stream",
     "text": [
      "None\n"
     ]
    },
    {
     "name": "stderr",
     "output_type": "stream",
     "text": [
      "C:\\ProgramData\\Anaconda3\\lib\\site-packages\\bs4\\element.py:1441: UserWarning: .nonExistentTag is deprecated, use .find(\"nonExistent\") instead. If you really were looking for a tag called nonExistentTag, use .find(\"nonExistentTag\")\n",
      "  name=tag_name\n"
     ]
    }
   ],
   "source": [
    "#html파일을 가져오는 것은 성공했으나 내용의 태그에 문제가 있을 때\n",
    "#예로 h1태그의 내용이 그 내용을 가지고 오려 할 때는 문제가 생길것\n",
    "\n",
    "#에시\n",
    "print(bs.nonExistentTag) #내용이 없어서 None을 반환"
   ]
  },
  {
   "cell_type": "code",
   "execution_count": 7,
   "metadata": {},
   "outputs": [
    {
     "ename": "AttributeError",
     "evalue": "'NoneType' object has no attribute 'someTag'",
     "output_type": "error",
     "traceback": [
      "\u001b[1;31m---------------------------------------------------------------------------\u001b[0m",
      "\u001b[1;31mAttributeError\u001b[0m                            Traceback (most recent call last)",
      "\u001b[1;32m<ipython-input-7-099e5c08ffb5>\u001b[0m in \u001b[0;36m<module>\u001b[1;34m\u001b[0m\n\u001b[1;32m----> 1\u001b[1;33m \u001b[0mprint\u001b[0m\u001b[1;33m(\u001b[0m\u001b[0mbs\u001b[0m\u001b[1;33m.\u001b[0m\u001b[0mnonExistentTag\u001b[0m\u001b[1;33m.\u001b[0m\u001b[0msomeTag\u001b[0m\u001b[1;33m)\u001b[0m\u001b[1;33m\u001b[0m\u001b[1;33m\u001b[0m\u001b[0m\n\u001b[0m",
      "\u001b[1;31mAttributeError\u001b[0m: 'NoneType' object has no attribute 'someTag'"
     ]
    }
   ],
   "source": [
    "print(bs.nonExistentTag.someTag)"
   ]
  },
  {
   "cell_type": "code",
   "execution_count": 9,
   "metadata": {},
   "outputs": [
    {
     "name": "stdout",
     "output_type": "stream",
     "text": [
      "Tag was not found, Attribute Error\n"
     ]
    }
   ],
   "source": [
    "#None 객체에 대한 예외처리를 진행하기\n",
    "\n",
    "try:\n",
    "    badContent = bs.nonExistingTag.anotherTag\n",
    "except AttributeError as e: #html 문서안의 태그를 잘못 사용한 경우에\n",
    "    print('Tag was not found, Attribute Error')\n",
    "else:\n",
    "    if badContent == None: #html 문서안의 태그를 호출했는데 아무 내용도 없는 경우에\n",
    "        print('Tag was not found')\n",
    "    else:\n",
    "        print(badContent)"
   ]
  },
  {
   "cell_type": "code",
   "execution_count": 10,
   "metadata": {},
   "outputs": [],
   "source": [
    "#위의 예외상황들을 종합적으로 고려하여 Title을 추출하는 함수를 작성해보기\n",
    "#먼저 페이지에 접속할 수 없는 경우에 대한 예외 처리를 진행해야하고\n",
    "#다음으로 내용에 잘못 접근하는 경우에 대한 예외처리를 해야함\n",
    "\n",
    "from urllib.request import urlopen\n",
    "from urllib.error import HTTPError\n",
    "from bs4 import BeautifulSoup\n",
    "\n",
    "def getTitle(url):\n",
    "    try:\n",
    "        html = urlopen(url)\n",
    "    except HTTPError as e: #사이트를 접근할 수 없는 경우에 대한 예외 처리\n",
    "        return None\n",
    "    try:\n",
    "        bs = BeautifulSoup(html.read(), 'html.parser')\n",
    "        title = bs.body.h1\n",
    "    except AttributeError as e: \n",
    "        #body.h1 태그를 찾을 수 없는 경우에 대한 예외처리\n",
    "        #혹은 사이트를 접속할 수 없어 None 객체에 잘못된 메서드를 사용하여 발생하는\n",
    "        #AttributeError에 대한 예외처리\n",
    "        return None\n",
    "    return title"
   ]
  },
  {
   "cell_type": "code",
   "execution_count": 11,
   "metadata": {},
   "outputs": [
    {
     "name": "stdout",
     "output_type": "stream",
     "text": [
      "<h1>An Interesting Title</h1>\n"
     ]
    }
   ],
   "source": [
    "title = getTitle('http://www.pythonscraping.com/pages/page1.html')\n",
    "if title == None:\n",
    "    print('Title could not be found')\n",
    "else:\n",
    "    print(title)"
   ]
  },
  {
   "cell_type": "markdown",
   "metadata": {},
   "source": [
    "## ch2. 고급 HTML 분석\n",
    "- CSS 속성 중 class나 id를 이용하여 원하는 데이터만 추출해보기"
   ]
  },
  {
   "cell_type": "code",
   "execution_count": 4,
   "metadata": {},
   "outputs": [],
   "source": [
    "from urllib.request import urlopen\n",
    "from bs4 import BeautifulSoup\n",
    "\n",
    "html = urlopen('http://www.pythonscraping.com/pages/warandpeace.html')\n",
    "bs = BeautifulSoup(html.read(), 'html.parser')"
   ]
  },
  {
   "cell_type": "code",
   "execution_count": 5,
   "metadata": {
    "scrolled": true
   },
   "outputs": [
    {
     "data": {
      "text/plain": [
       "<html>\n",
       "<head>\n",
       "<style>\n",
       ".green{\n",
       "\tcolor:#55ff55;\n",
       "}\n",
       ".red{\n",
       "\tcolor:#ff5555;\n",
       "}\n",
       "#text{\n",
       "\twidth:50%;\n",
       "}\n",
       "</style>\n",
       "</head>\n",
       "<body>\n",
       "<h1>War and Peace</h1>\n",
       "<h2>Chapter 1</h2>\n",
       "<div id=\"text\">\n",
       "\"<span class=\"red\">Well, Prince, so Genoa and Lucca are now just family estates of the\n",
       "Buonapartes. But I warn you, if you don't tell me that this means war,\n",
       "if you still try to defend the infamies and horrors perpetrated by\n",
       "that Antichrist- I really believe he is Antichrist- I will have\n",
       "nothing more to do with you and you are no longer my friend, no longer\n",
       "my 'faithful slave,' as you call yourself! But how do you do? I see\n",
       "I have frightened you- sit down and tell me all the news.</span>\"\n",
       "<p></p>\n",
       "It was in July, 1805, and the speaker was the well-known <span class=\"green\">Anna\n",
       "Pavlovna Scherer</span>, maid of honor and favorite of the <span class=\"green\">Empress Marya\n",
       "Fedorovna</span>. With these words she greeted <span class=\"green\">Prince Vasili Kuragin</span>, a man\n",
       "of high rank and importance, who was the first to arrive at her\n",
       "reception. <span class=\"green\">Anna Pavlovna</span> had had a cough for some days. She was, as\n",
       "she said, suffering from la grippe; grippe being then a new word in\n",
       "<span class=\"green\">St. Petersburg</span>, used only by the elite.\n",
       "<p></p>\n",
       "All her invitations without exception, written in French, and\n",
       "delivered by a scarlet-liveried footman that morning, ran as follows:\n",
       "<p></p>\n",
       "\"<span class=\"red\">If you have nothing better to do, Count [or Prince], and if the\n",
       "prospect of spending an evening with a poor invalid is not too\n",
       "terrible, I shall be very charmed to see you tonight between 7 and 10-\n",
       "Annette Scherer.</span>\"\n",
       "<p></p>\n",
       "\"<span class=\"red\">Heavens! what a virulent attack!</span>\" replied <span class=\"green\">the prince</span>, not in the\n",
       "least disconcerted by this reception. He had just entered, wearing\n",
       "an embroidered court uniform, knee breeches, and shoes, and had\n",
       "stars on his breast and a serene expression on his flat face. He spoke\n",
       "in that refined French in which our grandfathers not only spoke but\n",
       "thought, and with the gentle, patronizing intonation natural to a\n",
       "man of importance who had grown old in society and at court. He went\n",
       "up to <span class=\"green\">Anna Pavlovna</span>, kissed her hand, presenting to her his bald,\n",
       "scented, and shining head, and complacently seated himself on the\n",
       "sofa.\n",
       "<p></p>\n",
       "\"<span class=\"red\">First of all, dear friend, tell me how you are. Set your friend's\n",
       "mind at rest,</span>\" said he without altering his tone, beneath the\n",
       "politeness and affected sympathy of which indifference and even\n",
       "irony could be discerned.\n",
       "<p></p>\n",
       "\"<span class=\"red\">Can one be well while suffering morally? Can one be calm in times\n",
       "like these if one has any feeling?</span>\" said <span class=\"green\">Anna Pavlovna</span>. \"<span class=\"red\">You are\n",
       "staying the whole evening, I hope?</span>\"\n",
       "<p></p>\n",
       "\"<span class=\"red\">And the fete at the English ambassador's? Today is Wednesday. I\n",
       "must put in an appearance there,</span>\" said <span class=\"green\">the prince</span>. \"<span class=\"red\">My daughter is\n",
       "coming for me to take me there.</span>\"\n",
       "<p></p>\n",
       "\"<span class=\"red\">I thought today's fete had been canceled. I confess all these\n",
       "festivities and fireworks are becoming wearisome.</span>\"\n",
       "<p></p>\n",
       "\"<span class=\"red\">If they had known that you wished it, the entertainment would\n",
       "have been put off,</span>\" said <span class=\"green\">the prince</span>, who, like a wound-up clock, by\n",
       "force of habit said things he did not even wish to be believed.\n",
       "<p></p>\n",
       "\"<span class=\"red\">Don't tease! Well, and what has been decided about Novosiltsev's\n",
       "dispatch? You know everything.</span>\"\n",
       "<p></p>\n",
       "\"<span class=\"red\">What can one say about it?</span>\" replied <span class=\"green\">the prince</span> in a cold,\n",
       "listless tone. \"<span class=\"red\">What has been decided? They have decided that\n",
       "Buonaparte has burnt his boats, and I believe that we are ready to\n",
       "burn ours.</span>\"\n",
       "<p></p>\n",
       "<span class=\"green\">Prince Vasili</span> always spoke languidly, like an actor repeating a\n",
       "stale part. <span class=\"green\">Anna Pavlovna</span> Scherer on the contrary, despite her forty\n",
       "years, overflowed with animation and impulsiveness. To be an\n",
       "enthusiast had become her social vocation and, sometimes even when she\n",
       "did not feel like it, she became enthusiastic in order not to\n",
       "disappoint the expectations of those who knew her. The subdued smile\n",
       "which, though it did not suit her faded features, always played\n",
       "round her lips expressed, as in a spoiled child, a continual\n",
       "consciousness of her charming defect, which she neither wished, nor\n",
       "could, nor considered it necessary, to correct.\n",
       "<p></p>\n",
       "In the midst of a conversation on political matters <span class=\"green\">Anna Pavlovna</span>\n",
       "burst out:\n",
       "<p></p>\n",
       "\"<span class=\"red\">Oh, don't speak to me of Austria. Perhaps I don't understand\n",
       "things, but Austria never has wished, and does not wish, for war.\n",
       "She is betraying us! Russia alone must save Europe. Our gracious\n",
       "sovereign recognizes his high vocation and will be true to it. That is\n",
       "the one thing I have faith in! Our good and wonderful sovereign has to\n",
       "perform the noblest role on earth, and he is so virtuous and noble\n",
       "that God will not forsake him. He will fulfill his vocation and\n",
       "crush the hydra of revolution, which has become more terrible than\n",
       "ever in the person of this murderer and villain! We alone must\n",
       "avenge the blood of the just one.... Whom, I ask you, can we rely\n",
       "on?... England with her commercial spirit will not and cannot\n",
       "understand the Emperor Alexander's loftiness of soul. She has\n",
       "refused to evacuate Malta. She wanted to find, and still seeks, some\n",
       "secret motive in our actions. What answer did Novosiltsev get? None.\n",
       "The English have not understood and cannot understand the\n",
       "self-abnegation of our Emperor who wants nothing for himself, but only\n",
       "desires the good of mankind. And what have they promised? Nothing! And\n",
       "what little they have promised they will not perform! Prussia has\n",
       "always declared that Buonaparte is invincible, and that all Europe\n",
       "is powerless before him.... And I don't believe a word that Hardenburg\n",
       "says, or Haugwitz either. This famous Prussian neutrality is just a\n",
       "trap. I have faith only in God and the lofty destiny of our adored\n",
       "monarch. He will save Europe!</span>\"\n",
       "<p></p>\n",
       "She suddenly paused, smiling at her own impetuosity.\n",
       "<p></p>\n",
       "\"<span class=\"red\">I think,</span>\" said <span class=\"green\">the prince</span> with a smile, \"<span class=\"red\">that if you had been\n",
       "sent instead of our dear <span class=\"green\">Wintzingerode</span> you would have captured the\n",
       "<span class=\"green\">King of Prussia</span>'s consent by assault. You are so eloquent. Will you\n",
       "give me a cup of tea?</span>\"\n",
       "<p></p>\n",
       "\"<span class=\"red\">In a moment. A propos,</span>\" she added, becoming calm again, \"<span class=\"red\">I am\n",
       "expecting two very interesting men tonight, <span class=\"green\">le Vicomte de Mortemart</span>,\n",
       "who is connected with the <span class=\"green\">Montmorencys</span> through the <span class=\"green\">Rohans</span>, one of\n",
       "the best French families. He is one of the genuine emigres, the good\n",
       "ones. And also the <span class=\"green\">Abbe Morio</span>. Do you know that profound thinker? He\n",
       "has been received by <span class=\"green\">the Emperor</span>. Had you heard?</span>\"\n",
       "<p></p>\n",
       "\"<span class=\"red\">I shall be delighted to meet them,</span>\" said <span class=\"green\">the prince</span>. \"<span class=\"red\">But tell me,</span>\"\n",
       "he added with studied carelessness as if it had only just occurred\n",
       "to him, though the question he was about to ask was the chief motive\n",
       "of his visit, \"<span class=\"red\">is it true that the Dowager Empress wants Baron Funke\n",
       "to be appointed first secretary at Vienna? The baron by all accounts\n",
       "is a poor creature.</span>\"\n",
       "<p></p>\n",
       "<span class=\"green\">Prince Vasili</span> wished to obtain this post for his son, but others\n",
       "were trying through the <span class=\"green\">Dowager Empress Marya Fedorovna</span> to secure it\n",
       "for <span class=\"green\">the baron</span>.\n",
       "<p></p>\n",
       "<span class=\"green\">Anna Pavlovna</span> almost closed her eyes to indicate that neither she\n",
       "nor anyone else had a right to criticize what <span class=\"green\">the Empress</span> desired or\n",
       "was pleased with.\n",
       "<p></p>\n",
       "\"<span class=\"red\">Baron Funke has been recommended to the Dowager Empress by her\n",
       "sister,</span>\" was all she said, in a dry and mournful tone.\n",
       "<p></p>\n",
       "As she named <span class=\"green\">the Empress</span>, <span class=\"green\">Anna Pavlovna's</span> face suddenly assumed an\n",
       "expression of profound and sincere devotion and respect mingled with\n",
       "sadness, and this occurred every time she mentioned her illustrious\n",
       "patroness. She added that <span class=\"green\">Her Majesty</span> had deigned to show <span class=\"green\">Baron\n",
       "Funke</span>, and again her face clouded over with sadness.\n",
       "<p></p>\n",
       "<span class=\"green\">The prince</span> was silent and looked indifferent. But, with the\n",
       "womanly and courtierlike quickness and tact habitual to her, <span class=\"green\">Anna\n",
       "Pavlovna</span> wished both to rebuke him (for daring to speak he had done of\n",
       "a man recommended to <span class=\"green\">the Empress</span>) and at the same time to console him,\n",
       "so she said:\n",
       "<p></p>\n",
       "\"<span class=\"red\">Now about your family. Do you know that since your daughter came\n",
       "out everyone has been enraptured by her? They say she is amazingly\n",
       "beautiful.</span>\"\n",
       "<p></p>\n",
       "<span class=\"green\">The prince</span> bowed to signify his respect and gratitude.\n",
       "<p></p>\n",
       "\"<span class=\"red\">I often think,</span>\" she continued after a short pause, drawing nearer\n",
       "to the prince and smiling amiably at him as if to show that\n",
       "political and social topics were ended and the time had come for\n",
       "intimate conversation- \"<span class=\"red\">I often think how unfairly sometimes the\n",
       "joys of life are distributed. Why has fate given you two such splendid\n",
       "children? I don't speak of <span class=\"green\">Anatole</span>, your youngest. I don't like\n",
       "him,</span>\" she added in a tone admitting of no rejoinder and raising her\n",
       "eyebrows. \"<span class=\"red\">Two such charming children. And really you appreciate\n",
       "them less than anyone, and so you don't deserve to have them.</span>\"\n",
       "<p></p>\n",
       "And she smiled her ecstatic smile.\n",
       "<p></p>\n",
       "\"<span class=\"red\">I can't help it,</span>\" said <span class=\"green\">the prince</span>. \"<span class=\"red\">Lavater would have said I\n",
       "lack the bump of paternity.</span>\"\n",
       "<p></p>\n",
       "\"<span class=\"red\">Don't joke; I mean to have a serious talk with you. Do you know I\n",
       "am dissatisfied with your younger son? Between ourselves</span>\" (and her\n",
       "face assumed its melancholy expression), \"<span class=\"red\">he was mentioned at Her\n",
       "Majesty's and you were pitied....</span>\"\n",
       "<p></p>\n",
       "<span class=\"green\">The prince</span> answered nothing, but she looked at him significantly,\n",
       "awaiting a reply. He frowned.\n",
       "<p></p>\n",
       "\"<span class=\"red\">What would you have me do?</span>\" he said at last. \"<span class=\"red\">You know I did all\n",
       "a father could for their education, and they have both turned out\n",
       "fools. Hippolyte is at least a quiet fool, but Anatole is an active\n",
       "one. That is the only difference between them.</span>\" He said this smiling\n",
       "in a way more natural and animated than usual, so that the wrinkles\n",
       "round his mouth very clearly revealed something unexpectedly coarse\n",
       "and unpleasant.\n",
       "<p></p>\n",
       "\"<span class=\"red\">And why are children born to such men as you? If you were not a\n",
       "father there would be nothing I could reproach you with,</span>\" said <span class=\"green\">Anna\n",
       "Pavlovna</span>, looking up pensively.\n",
       "<p></p>\n",
       "\"<span class=\"red\">I am your faithful slave and to you alone I can confess that my\n",
       "children are the bane of my life. It is the cross I have to bear. That\n",
       "is how I explain it to myself. It can't be helped!</span>\"\n",
       "<p></p>\n",
       "He said no more, but expressed his resignation to cruel fate by a\n",
       "gesture. <span class=\"green\">Anna Pavlovna</span> meditated.\n",
       "</div>\n",
       "</body>\n",
       "</html>"
      ]
     },
     "execution_count": 5,
     "metadata": {},
     "output_type": "execute_result"
    }
   ],
   "source": [
    "bs\n",
    "    #span태그 class 속성안에 red, green 변수가 존재"
   ]
  },
  {
   "cell_type": "code",
   "execution_count": 7,
   "metadata": {},
   "outputs": [],
   "source": [
    "#초록색 글씨로 써져있는 내용들만 가져오기\n",
    "\n",
    "nameList = bs.findAll('span', {'class':'green'})\n",
    "    #첫 인자는 태그 이름, 두번째 인자는 속성\n",
    "    #위 조건에 부합하는 태그 이름과 속성을 가진 모든 경우를 찾음"
   ]
  },
  {
   "cell_type": "code",
   "execution_count": 8,
   "metadata": {},
   "outputs": [
    {
     "data": {
      "text/plain": [
       "[<span class=\"green\">Anna\n",
       " Pavlovna Scherer</span>,\n",
       " <span class=\"green\">Empress Marya\n",
       " Fedorovna</span>,\n",
       " <span class=\"green\">Prince Vasili Kuragin</span>,\n",
       " <span class=\"green\">Anna Pavlovna</span>,\n",
       " <span class=\"green\">St. Petersburg</span>,\n",
       " <span class=\"green\">the prince</span>,\n",
       " <span class=\"green\">Anna Pavlovna</span>,\n",
       " <span class=\"green\">Anna Pavlovna</span>,\n",
       " <span class=\"green\">the prince</span>,\n",
       " <span class=\"green\">the prince</span>,\n",
       " <span class=\"green\">the prince</span>,\n",
       " <span class=\"green\">Prince Vasili</span>,\n",
       " <span class=\"green\">Anna Pavlovna</span>,\n",
       " <span class=\"green\">Anna Pavlovna</span>,\n",
       " <span class=\"green\">the prince</span>,\n",
       " <span class=\"green\">Wintzingerode</span>,\n",
       " <span class=\"green\">King of Prussia</span>,\n",
       " <span class=\"green\">le Vicomte de Mortemart</span>,\n",
       " <span class=\"green\">Montmorencys</span>,\n",
       " <span class=\"green\">Rohans</span>,\n",
       " <span class=\"green\">Abbe Morio</span>,\n",
       " <span class=\"green\">the Emperor</span>,\n",
       " <span class=\"green\">the prince</span>,\n",
       " <span class=\"green\">Prince Vasili</span>,\n",
       " <span class=\"green\">Dowager Empress Marya Fedorovna</span>,\n",
       " <span class=\"green\">the baron</span>,\n",
       " <span class=\"green\">Anna Pavlovna</span>,\n",
       " <span class=\"green\">the Empress</span>,\n",
       " <span class=\"green\">the Empress</span>,\n",
       " <span class=\"green\">Anna Pavlovna's</span>,\n",
       " <span class=\"green\">Her Majesty</span>,\n",
       " <span class=\"green\">Baron\n",
       " Funke</span>,\n",
       " <span class=\"green\">The prince</span>,\n",
       " <span class=\"green\">Anna\n",
       " Pavlovna</span>,\n",
       " <span class=\"green\">the Empress</span>,\n",
       " <span class=\"green\">The prince</span>,\n",
       " <span class=\"green\">Anatole</span>,\n",
       " <span class=\"green\">the prince</span>,\n",
       " <span class=\"green\">The prince</span>,\n",
       " <span class=\"green\">Anna\n",
       " Pavlovna</span>,\n",
       " <span class=\"green\">Anna Pavlovna</span>]"
      ]
     },
     "execution_count": 8,
     "metadata": {},
     "output_type": "execute_result"
    }
   ],
   "source": [
    "nameList"
   ]
  },
  {
   "cell_type": "code",
   "execution_count": 9,
   "metadata": {},
   "outputs": [
    {
     "name": "stdout",
     "output_type": "stream",
     "text": [
      "Anna\n",
      "Pavlovna Scherer\n",
      "Empress Marya\n",
      "Fedorovna\n",
      "Prince Vasili Kuragin\n",
      "Anna Pavlovna\n",
      "St. Petersburg\n",
      "the prince\n",
      "Anna Pavlovna\n",
      "Anna Pavlovna\n",
      "the prince\n",
      "the prince\n",
      "the prince\n",
      "Prince Vasili\n",
      "Anna Pavlovna\n",
      "Anna Pavlovna\n",
      "the prince\n",
      "Wintzingerode\n",
      "King of Prussia\n",
      "le Vicomte de Mortemart\n",
      "Montmorencys\n",
      "Rohans\n",
      "Abbe Morio\n",
      "the Emperor\n",
      "the prince\n",
      "Prince Vasili\n",
      "Dowager Empress Marya Fedorovna\n",
      "the baron\n",
      "Anna Pavlovna\n",
      "the Empress\n",
      "the Empress\n",
      "Anna Pavlovna's\n",
      "Her Majesty\n",
      "Baron\n",
      "Funke\n",
      "The prince\n",
      "Anna\n",
      "Pavlovna\n",
      "the Empress\n",
      "The prince\n",
      "Anatole\n",
      "the prince\n",
      "The prince\n",
      "Anna\n",
      "Pavlovna\n",
      "Anna Pavlovna\n"
     ]
    }
   ],
   "source": [
    "#찾은 태그 안의 내용, contents만 따오기\n",
    "\n",
    "for name in nameList:\n",
    "    print(name.get_text()) #BeautifulSoup 객체가 제공하는 get_text라른 메서드를 사용하여\n",
    "        #태그를 지우고 태그 안의 내용만 가져오기\n",
    "        #get_text는 최종적인 단계에서 사용하는 것을 추천. 이 전에 추가 작업을 하려면 태그를 남겨서 하는 것이 필수"
   ]
  },
  {
   "cell_type": "markdown",
   "metadata": {},
   "source": [
    "### 부모, 자식 (자손), 형제\n",
    "- html문서의 태그 위치를 이용해 내용을 추출하기 위해 사용하는 개념과 방법"
   ]
  },
  {
   "cell_type": "code",
   "execution_count": 11,
   "metadata": {},
   "outputs": [],
   "source": [
    "html = urlopen('http://www.pythonscraping.com/pages/page3.html')\n",
    "bs = BeautifulSoup(html.read(), 'html.parser')"
   ]
  },
  {
   "cell_type": "code",
   "execution_count": 12,
   "metadata": {
    "scrolled": true
   },
   "outputs": [
    {
     "data": {
      "text/plain": [
       "<html>\n",
       "<head>\n",
       "<style>\n",
       "img{\n",
       "\twidth:75px;\n",
       "}\n",
       "table{\n",
       "\twidth:50%;\n",
       "}\n",
       "td{\n",
       "\tmargin:10px;\n",
       "\tpadding:10px;\n",
       "}\n",
       ".wrapper{\n",
       "\twidth:800px;\n",
       "}\n",
       ".excitingNote{\n",
       "\tfont-style:italic;\n",
       "\tfont-weight:bold;\n",
       "}\n",
       "</style>\n",
       "</head>\n",
       "<body>\n",
       "<div id=\"wrapper\">\n",
       "<img src=\"../img/gifts/logo.jpg\" style=\"float:left;\"/>\n",
       "<h1>Totally Normal Gifts</h1>\n",
       "<div id=\"content\">Here is a collection of totally normal, totally reasonable gifts that your friends are sure to love! Our collection is\n",
       "hand-curated by well-paid, free-range Tibetan monks.<p>\n",
       "We haven't figured out how to make online shopping carts yet, but you can send us a check to:<br/>\n",
       "123 Main St.<br/>\n",
       "Abuja, Nigeria\n",
       "We will then send your totally amazing gift, pronto! Please include an extra $5.00 for gift wrapping.</p></div>\n",
       "<table id=\"giftList\">\n",
       "<tr><th>\n",
       "Item Title\n",
       "</th><th>\n",
       "Description\n",
       "</th><th>\n",
       "Cost\n",
       "</th><th>\n",
       "Image\n",
       "</th></tr>\n",
       "<tr class=\"gift\" id=\"gift1\"><td>\n",
       "Vegetable Basket\n",
       "</td><td>\n",
       "This vegetable basket is the perfect gift for your health conscious (or overweight) friends!\n",
       "<span class=\"excitingNote\">Now with super-colorful bell peppers!</span>\n",
       "</td><td>\n",
       "$15.00\n",
       "</td><td>\n",
       "<img src=\"../img/gifts/img1.jpg\"/>\n",
       "</td></tr>\n",
       "<tr class=\"gift\" id=\"gift2\"><td>\n",
       "Russian Nesting Dolls\n",
       "</td><td>\n",
       "Hand-painted by trained monkeys, these exquisite dolls are priceless! And by \"priceless,\" we mean \"extremely expensive\"! <span class=\"excitingNote\">8 entire dolls per set! Octuple the presents!</span>\n",
       "</td><td>\n",
       "$10,000.52\n",
       "</td><td>\n",
       "<img src=\"../img/gifts/img2.jpg\"/>\n",
       "</td></tr>\n",
       "<tr class=\"gift\" id=\"gift3\"><td>\n",
       "Fish Painting\n",
       "</td><td>\n",
       "If something seems fishy about this painting, it's because it's a fish! <span class=\"excitingNote\">Also hand-painted by trained monkeys!</span>\n",
       "</td><td>\n",
       "$10,005.00\n",
       "</td><td>\n",
       "<img src=\"../img/gifts/img3.jpg\"/>\n",
       "</td></tr>\n",
       "<tr class=\"gift\" id=\"gift4\"><td>\n",
       "Dead Parrot\n",
       "</td><td>\n",
       "This is an ex-parrot! <span class=\"excitingNote\">Or maybe he's only resting?</span>\n",
       "</td><td>\n",
       "$0.50\n",
       "</td><td>\n",
       "<img src=\"../img/gifts/img4.jpg\"/>\n",
       "</td></tr>\n",
       "<tr class=\"gift\" id=\"gift5\"><td>\n",
       "Mystery Box\n",
       "</td><td>\n",
       "If you love suprises, this mystery box is for you! Do not place on light-colored surfaces. May cause oil staining. <span class=\"excitingNote\">Keep your friends guessing!</span>\n",
       "</td><td>\n",
       "$1.50\n",
       "</td><td>\n",
       "<img src=\"../img/gifts/img6.jpg\"/>\n",
       "</td></tr>\n",
       "</table>\n",
       "</div></body></html>\n",
       "<div id=\"footer\">\n",
       "© Totally Normal Gifts, Inc. <br/>\n",
       "+234 (617) 863-0736\n",
       "</div>\n",
       "\n",
       "\n"
      ]
     },
     "execution_count": 12,
     "metadata": {},
     "output_type": "execute_result"
    }
   ],
   "source": [
    "bs"
   ]
  },
  {
   "cell_type": "code",
   "execution_count": 14,
   "metadata": {},
   "outputs": [
    {
     "data": {
      "text/plain": [
       "<list_iterator at 0x24c4714ae48>"
      ]
     },
     "execution_count": 14,
     "metadata": {},
     "output_type": "execute_result"
    }
   ],
   "source": [
    "bs.find('table', {'id' : 'giftList'}).children"
   ]
  },
  {
   "cell_type": "code",
   "execution_count": 16,
   "metadata": {
    "scrolled": true
   },
   "outputs": [
    {
     "name": "stdout",
     "output_type": "stream",
     "text": [
      "\n",
      "\n",
      "<tr><th>\n",
      "Item Title\n",
      "</th><th>\n",
      "Description\n",
      "</th><th>\n",
      "Cost\n",
      "</th><th>\n",
      "Image\n",
      "</th></tr>\n",
      "\n",
      "\n",
      "<tr class=\"gift\" id=\"gift1\"><td>\n",
      "Vegetable Basket\n",
      "</td><td>\n",
      "This vegetable basket is the perfect gift for your health conscious (or overweight) friends!\n",
      "<span class=\"excitingNote\">Now with super-colorful bell peppers!</span>\n",
      "</td><td>\n",
      "$15.00\n",
      "</td><td>\n",
      "<img src=\"../img/gifts/img1.jpg\"/>\n",
      "</td></tr>\n",
      "\n",
      "\n",
      "<tr class=\"gift\" id=\"gift2\"><td>\n",
      "Russian Nesting Dolls\n",
      "</td><td>\n",
      "Hand-painted by trained monkeys, these exquisite dolls are priceless! And by \"priceless,\" we mean \"extremely expensive\"! <span class=\"excitingNote\">8 entire dolls per set! Octuple the presents!</span>\n",
      "</td><td>\n",
      "$10,000.52\n",
      "</td><td>\n",
      "<img src=\"../img/gifts/img2.jpg\"/>\n",
      "</td></tr>\n",
      "\n",
      "\n",
      "<tr class=\"gift\" id=\"gift3\"><td>\n",
      "Fish Painting\n",
      "</td><td>\n",
      "If something seems fishy about this painting, it's because it's a fish! <span class=\"excitingNote\">Also hand-painted by trained monkeys!</span>\n",
      "</td><td>\n",
      "$10,005.00\n",
      "</td><td>\n",
      "<img src=\"../img/gifts/img3.jpg\"/>\n",
      "</td></tr>\n",
      "\n",
      "\n",
      "<tr class=\"gift\" id=\"gift4\"><td>\n",
      "Dead Parrot\n",
      "</td><td>\n",
      "This is an ex-parrot! <span class=\"excitingNote\">Or maybe he's only resting?</span>\n",
      "</td><td>\n",
      "$0.50\n",
      "</td><td>\n",
      "<img src=\"../img/gifts/img4.jpg\"/>\n",
      "</td></tr>\n",
      "\n",
      "\n",
      "<tr class=\"gift\" id=\"gift5\"><td>\n",
      "Mystery Box\n",
      "</td><td>\n",
      "If you love suprises, this mystery box is for you! Do not place on light-colored surfaces. May cause oil staining. <span class=\"excitingNote\">Keep your friends guessing!</span>\n",
      "</td><td>\n",
      "$1.50\n",
      "</td><td>\n",
      "<img src=\"../img/gifts/img6.jpg\"/>\n",
      "</td></tr>\n",
      "\n",
      "\n"
     ]
    }
   ],
   "source": [
    "#자식들만 추출하기\n",
    "for child in bs.find('table', {'id' : 'giftList'}).children:\n",
    "    print(child)\n",
    "    #여기서는 table 태그 id 속성의 giftList 변수 아래의 자식들만 선택\n",
    "    #자식은 어떤 태그 바로 아래에 위치한 태그를 의미, 즉 한 단계 아래 태그만 해당\n",
    "    #자손은 어떤 태그 아래에 있는 모든 태그들을 의미, 즉 한 단계 이상의 모든 태그들이 해당\n",
    "    #교재 p.45의 tr, tr.gift#gift1, .... 만 table#giftList에 해당되는 것"
   ]
  },
  {
   "cell_type": "code",
   "execution_count": 17,
   "metadata": {
    "scrolled": true
   },
   "outputs": [
    {
     "name": "stdout",
     "output_type": "stream",
     "text": [
      "\n",
      "\n",
      "<tr class=\"gift\" id=\"gift1\"><td>\n",
      "Vegetable Basket\n",
      "</td><td>\n",
      "This vegetable basket is the perfect gift for your health conscious (or overweight) friends!\n",
      "<span class=\"excitingNote\">Now with super-colorful bell peppers!</span>\n",
      "</td><td>\n",
      "$15.00\n",
      "</td><td>\n",
      "<img src=\"../img/gifts/img1.jpg\"/>\n",
      "</td></tr>\n",
      "\n",
      "\n",
      "<tr class=\"gift\" id=\"gift2\"><td>\n",
      "Russian Nesting Dolls\n",
      "</td><td>\n",
      "Hand-painted by trained monkeys, these exquisite dolls are priceless! And by \"priceless,\" we mean \"extremely expensive\"! <span class=\"excitingNote\">8 entire dolls per set! Octuple the presents!</span>\n",
      "</td><td>\n",
      "$10,000.52\n",
      "</td><td>\n",
      "<img src=\"../img/gifts/img2.jpg\"/>\n",
      "</td></tr>\n",
      "\n",
      "\n",
      "<tr class=\"gift\" id=\"gift3\"><td>\n",
      "Fish Painting\n",
      "</td><td>\n",
      "If something seems fishy about this painting, it's because it's a fish! <span class=\"excitingNote\">Also hand-painted by trained monkeys!</span>\n",
      "</td><td>\n",
      "$10,005.00\n",
      "</td><td>\n",
      "<img src=\"../img/gifts/img3.jpg\"/>\n",
      "</td></tr>\n",
      "\n",
      "\n",
      "<tr class=\"gift\" id=\"gift4\"><td>\n",
      "Dead Parrot\n",
      "</td><td>\n",
      "This is an ex-parrot! <span class=\"excitingNote\">Or maybe he's only resting?</span>\n",
      "</td><td>\n",
      "$0.50\n",
      "</td><td>\n",
      "<img src=\"../img/gifts/img4.jpg\"/>\n",
      "</td></tr>\n",
      "\n",
      "\n",
      "<tr class=\"gift\" id=\"gift5\"><td>\n",
      "Mystery Box\n",
      "</td><td>\n",
      "If you love suprises, this mystery box is for you! Do not place on light-colored surfaces. May cause oil staining. <span class=\"excitingNote\">Keep your friends guessing!</span>\n",
      "</td><td>\n",
      "$1.50\n",
      "</td><td>\n",
      "<img src=\"../img/gifts/img6.jpg\"/>\n",
      "</td></tr>\n",
      "\n",
      "\n"
     ]
    }
   ],
   "source": [
    "# 형제 다루기 next_siblings\n",
    "\n",
    "html = urlopen('http://www.pythonscraping.com/pages/page3.html')\n",
    "bs = BeautifulSoup(html.read(), 'html.parser')\n",
    "\n",
    "for sibling in bs.find('table', {'id' : 'giftList'}).tr.next_siblings:\n",
    "    print(sibling)\n",
    "    #형제 태그는 동일한 위치에 속한 태그들을 의미\n",
    "    #next_siblings는 현재 선택된 태그를 제외하고 다음의 형제 태그들 안의 내용들을 모두 출력\n",
    "    #따라서 표의 제목에 해당하는 bs.table#giftList.tr을 제외하고 나머지 형제 태그들을 출력"
   ]
  },
  {
   "cell_type": "code",
   "execution_count": 22,
   "metadata": {},
   "outputs": [
    {
     "name": "stdout",
     "output_type": "stream",
     "text": [
      "\n",
      "$15.00\n",
      "\n"
     ]
    }
   ],
   "source": [
    "# 부모 다루기\n",
    "html = urlopen('http://www.pythonscraping.com/pages/page3.html')\n",
    "bs = BeautifulSoup(html.read(), 'html.parser')\n",
    "\n",
    "print(bs.find('img', {'src': '../img/gifts/img1.jpg'}).parent.previous_sibling.get_text())\n",
    "    # 작동방식은 다음과 같다\n",
    "    # bs.find('img', {'src': '../img/gifts/img1.jpg'}) 에 해당하는 태그와 내용을 찾는다\n",
    "    # bs.find('img', {'src': '../img/gifts/img1.jpg'}).parent, 위 코드에서 찾은 태그의 부모 태그를 찾아서 태그와 내용을 반환한다\n",
    "    # bs.find('img', {'src': '../img/gifts/img1.jpg'}).parent.previous_sibling, 위 코드에서 찾은 부모 태그와 동등한 위치에 있는 이전 형제 태그와 내용을 반환한다\n",
    "    # bs.find('img', {'src': '../img/gifts/img1.jpg'}).parent.previous_sibling.get_text(), 태그 안에 해당하는 문자열 콘텐츠만 출력한다"
   ]
  },
  {
   "cell_type": "markdown",
   "metadata": {},
   "source": [
    "### 정규표현식과 BeautifulSoup\n",
    "- 위치로 태그와 내용을 파악하기 어려우나 어떤 규칙에 의거해서 내용을 추출하고자 하는 경우 자주 사용"
   ]
  },
  {
   "cell_type": "code",
   "execution_count": 33,
   "metadata": {},
   "outputs": [
    {
     "name": "stdout",
     "output_type": "stream",
     "text": [
      "<img src=\"../img/gifts/img1.jpg\"/>\n",
      "<img src=\"../img/gifts/img2.jpg\"/>\n",
      "<img src=\"../img/gifts/img3.jpg\"/>\n",
      "<img src=\"../img/gifts/img4.jpg\"/>\n",
      "<img src=\"../img/gifts/img6.jpg\"/>\n"
     ]
    }
   ],
   "source": [
    "#주어진 html에서 이미지 파일만 추출하고자 하는 경우\n",
    "import re\n",
    "\n",
    "html = urlopen('http://www.pythonscraping.com/pages/page3.html')\n",
    "bs = BeautifulSoup(html.read(), 'html.parser')\n",
    "\n",
    "images = bs.findAll('img', {'src': re.compile(r\"\\.\\.\\/img\\/gifts\\/img.*\\.jpg\")})\n",
    "    #img 태그 안의 src 속성의 정규표현식으로 표현되는 모든 변수들의 태그와 내용을 찾은 images 객체\n",
    "    \n",
    "for image in images:\n",
    "    print(image['src']) \n",
    "    #images 객체 안에 있는 태그들의 모음들을 하나씩 불러와서\n",
    "    #그 안의 src 속성을 불러와 속성 안의 변수들을 읽기\n",
    "    #이런 경우와 같이 태그 안의 contents와 달리 속성안에 우리가 찾고자 하는 어떤 값이 들어 있는 경우도 많음"
   ]
  },
  {
   "cell_type": "markdown",
   "metadata": {},
   "source": [
    "### 람다 표현식을 BeautifulSoup에 사용하기"
   ]
  },
  {
   "cell_type": "code",
   "execution_count": 41,
   "metadata": {
    "scrolled": true
   },
   "outputs": [
    {
     "data": {
      "text/plain": [
       "[<img src=\"../img/gifts/logo.jpg\" style=\"float:left;\"/>,\n",
       " <tr class=\"gift\" id=\"gift1\"><td>\n",
       " Vegetable Basket\n",
       " </td><td>\n",
       " This vegetable basket is the perfect gift for your health conscious (or overweight) friends!\n",
       " <span class=\"excitingNote\">Now with super-colorful bell peppers!</span>\n",
       " </td><td>\n",
       " $15.00\n",
       " </td><td>\n",
       " <img src=\"../img/gifts/img1.jpg\"/>\n",
       " </td></tr>,\n",
       " <tr class=\"gift\" id=\"gift2\"><td>\n",
       " Russian Nesting Dolls\n",
       " </td><td>\n",
       " Hand-painted by trained monkeys, these exquisite dolls are priceless! And by \"priceless,\" we mean \"extremely expensive\"! <span class=\"excitingNote\">8 entire dolls per set! Octuple the presents!</span>\n",
       " </td><td>\n",
       " $10,000.52\n",
       " </td><td>\n",
       " <img src=\"../img/gifts/img2.jpg\"/>\n",
       " </td></tr>,\n",
       " <tr class=\"gift\" id=\"gift3\"><td>\n",
       " Fish Painting\n",
       " </td><td>\n",
       " If something seems fishy about this painting, it's because it's a fish! <span class=\"excitingNote\">Also hand-painted by trained monkeys!</span>\n",
       " </td><td>\n",
       " $10,005.00\n",
       " </td><td>\n",
       " <img src=\"../img/gifts/img3.jpg\"/>\n",
       " </td></tr>,\n",
       " <tr class=\"gift\" id=\"gift4\"><td>\n",
       " Dead Parrot\n",
       " </td><td>\n",
       " This is an ex-parrot! <span class=\"excitingNote\">Or maybe he's only resting?</span>\n",
       " </td><td>\n",
       " $0.50\n",
       " </td><td>\n",
       " <img src=\"../img/gifts/img4.jpg\"/>\n",
       " </td></tr>,\n",
       " <tr class=\"gift\" id=\"gift5\"><td>\n",
       " Mystery Box\n",
       " </td><td>\n",
       " If you love suprises, this mystery box is for you! Do not place on light-colored surfaces. May cause oil staining. <span class=\"excitingNote\">Keep your friends guessing!</span>\n",
       " </td><td>\n",
       " $1.50\n",
       " </td><td>\n",
       " <img src=\"../img/gifts/img6.jpg\"/>\n",
       " </td></tr>]"
      ]
     },
     "execution_count": 41,
     "metadata": {},
     "output_type": "execute_result"
    }
   ],
   "source": [
    "# 태그에 있는 속성의 개수를 이용하여 특정한 태그를 찾고자 하는 경우\n",
    "# findAll에 사용가능\n",
    "\n",
    "bs.findAll(lambda tag: len(tag.attrs) == 2)\n",
    "    #lambda의 결과가 True, False로 나타나는 경우에만 람다식을 이용하여 인자로 사용할 수 있음"
   ]
  },
  {
   "cell_type": "code",
   "execution_count": 42,
   "metadata": {},
   "outputs": [
    {
     "data": {
      "text/plain": [
       "[<span class=\"excitingNote\">Or maybe he's only resting?</span>]"
      ]
     },
     "execution_count": 42,
     "metadata": {},
     "output_type": "execute_result"
    }
   ],
   "source": [
    "bs.findAll(lambda tag: tag.get_text() == 'Or maybe he\\'s only resting?')\n",
    "    #태그 안의 contents가 Or maybe he\\'s only resting?인 태그만 추출하도록 lambda식을 사용\n",
    "    #이를 응용하면 람다식과 정규표현식을 동시에 이용하여 정규표현식에 대응되는 태그만 찾을 수 있음!"
   ]
  },
  {
   "cell_type": "code",
   "execution_count": null,
   "metadata": {},
   "outputs": [],
   "source": []
  }
 ],
 "metadata": {
  "kernelspec": {
   "display_name": "Python 3",
   "language": "python",
   "name": "python3"
  },
  "language_info": {
   "codemirror_mode": {
    "name": "ipython",
    "version": 3
   },
   "file_extension": ".py",
   "mimetype": "text/x-python",
   "name": "python",
   "nbconvert_exporter": "python",
   "pygments_lexer": "ipython3",
   "version": "3.7.7"
  }
 },
 "nbformat": 4,
 "nbformat_minor": 4
}
